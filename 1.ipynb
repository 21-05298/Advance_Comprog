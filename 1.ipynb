{
 "cells": [
  {
   "cell_type": "code",
   "execution_count": 6,
   "metadata": {},
   "outputs": [
    {
     "name": "stdout",
     "output_type": "stream",
     "text": [
      "Hello world! I'm Kim!\n"
     ]
    }
   ],
   "source": [
    "#Simple print program with var assigned\n",
    "my_name = \"Kim\"\n",
    "\n",
    "print(\"Hello world! I'm \" + my_name + \"!\")"
   ]
  },
  {
   "cell_type": "code",
   "execution_count": 9,
   "metadata": {},
   "outputs": [
    {
     "name": "stdout",
     "output_type": "stream",
     "text": [
      "The product is  4\n"
     ]
    }
   ],
   "source": [
    "#Accepting a number from a user.\n",
    "\n",
    "num1 = int(input(\"Enter First Number :\"))\n",
    "num2 = int(input(\"Enter Second Number :\"))\n",
    "\n",
    "prod = num1 * num2\n",
    "print(\"The product is \" , prod)"
   ]
  },
  {
   "cell_type": "code",
   "execution_count": 12,
   "metadata": {},
   "outputs": [
    {
     "name": "stdout",
     "output_type": "stream",
     "text": [
      "The sum of every element in the list:\n",
      "Sum =  6\n"
     ]
    }
   ],
   "source": [
    "input_string = input(\"Enter a list element separated by space \")\n",
    "list  = input_string.split()\n",
    "print(\"The sum of every element in the list:\")\n",
    "sum = 0\n",
    "for num in list:\n",
    "    sum += int (num)\n",
    "print(\"Sum = \",sum)"
   ]
  },
  {
   "cell_type": "code",
   "execution_count": 13,
   "metadata": {},
   "outputs": [
    {
     "name": "stdout",
     "output_type": "stream",
     "text": [
      "1\n",
      "2\n",
      "3\n",
      "4\n",
      "5\n",
      "6\n",
      "7\n",
      "8\n",
      "9\n",
      "10\n"
     ]
    }
   ],
   "source": [
    "i = 1\n",
    "while i <= 10:\n",
    "    print(i)\n",
    "    i += 1"
   ]
  },
  {
   "cell_type": "code",
   "execution_count": 18,
   "metadata": {},
   "outputs": [
    {
     "name": "stdout",
     "output_type": "stream",
     "text": [
      "Kim 19\n",
      "Via 20\n"
     ]
    }
   ],
   "source": [
    "#Function\n",
    "def func1(name, age):\n",
    "    print(name, age)\n",
    "\n",
    "func1(\"Kim\",19)\n",
    "\n",
    "func1(\"Via\", 20)"
   ]
  },
  {
   "cell_type": "code",
   "execution_count": 23,
   "metadata": {},
   "outputs": [
    {
     "name": "stdout",
     "output_type": "stream",
     "text": [
      "76\n"
     ]
    }
   ],
   "source": [
    "#Finding the largest item in the given list.\n",
    "x = [4, 45, 6, 7, 44, 3, 56, 76]\n",
    "print(max(x))"
   ]
  }
 ],
 "metadata": {
  "kernelspec": {
   "display_name": "Python 3.9.12 ('base')",
   "language": "python",
   "name": "python3"
  },
  "language_info": {
   "codemirror_mode": {
    "name": "ipython",
    "version": 3
   },
   "file_extension": ".py",
   "mimetype": "text/x-python",
   "name": "python",
   "nbconvert_exporter": "python",
   "pygments_lexer": "ipython3",
   "version": "3.9.12"
  },
  "orig_nbformat": 4,
  "vscode": {
   "interpreter": {
    "hash": "c28da407b5413b3940d87ecdae5ea8ce0c2929d84f560e9f5daaaa2573d53e68"
   }
  }
 },
 "nbformat": 4,
 "nbformat_minor": 2
}
